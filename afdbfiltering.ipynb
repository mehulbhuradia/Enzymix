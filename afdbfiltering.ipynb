{
 "cells": [
  {
   "cell_type": "code",
   "execution_count": 2,
   "metadata": {},
   "outputs": [],
   "source": [
    "import os\n",
    "import numpy as np\n",
    "from Bio.PDB import PDBParser\n",
    "from tqdm import tqdm\n",
    "import argparse\n",
    "from tqdm import tqdm\n",
    "import json\n",
    "\n",
    "\n",
    "\n",
    "\n",
    "def average_bfactor(pdb_file):\n",
    "    parser = PDBParser(QUIET=True)\n",
    "    structure = parser.get_structure('pdb_structure', pdb_file)\n",
    "    # Initialize a count for residues\n",
    "    num_residues = 0\n",
    "\n",
    "    # Iterate through each model in the structure\n",
    "    for model in structure:\n",
    "        # Iterate through each chain in the model\n",
    "        for chain in model:\n",
    "            # Add the number of residues in this chain to the total count\n",
    "            num_residues += len(list(chain.get_residues()))\n",
    "    \n",
    "    bfactor_values = [atom.get_bfactor() for atom in structure.get_atoms() if atom.get_bfactor() is not None]\n",
    "    if bfactor_values:\n",
    "        return np.mean(bfactor_values),num_residues\n",
    "    else:\n",
    "        return None,None\n",
    "\n",
    "def process_pdb_folder(folder_path):    \n",
    "    results = []\n",
    "    file_list = [filename for filename in os.listdir(folder_path) if filename.endswith('.pdb')]\n",
    "    with tqdm(total=len(file_list), desc=\"Processing files\") as pbar:\n",
    "        for filename in file_list:\n",
    "            pdb_file = os.path.join(folder_path, filename)\n",
    "            average,siz = average_bfactor(pdb_file)\n",
    "            pbar.update(1)\n",
    "            if siz >=50 and siz <= 100:\n",
    "                results.append(average)\n",
    "    \n",
    "    # Calculate overall average\n",
    "    overall_average = np.mean(results)\n",
    "    print(f\"\\nOverall average B-factor: {overall_average:.2f}\")\n",
    "    return results\n",
    "    # print(f\"\\nOverall average B-factor: {overall_average:.2f}\")\n",
    "    # # Save the updated JSON file\n",
    "    # with open(out_file, 'w') as f:\n",
    "    #     json.dump(output, f)\n",
    "\n",
    "\n"
   ]
  },
  {
   "cell_type": "code",
   "execution_count": 3,
   "metadata": {},
   "outputs": [
    {
     "name": "stderr",
     "output_type": "stream",
     "text": [
      "Processing files: 100%|██████████| 104644/104644 [35:30<00:00, 49.11it/s]"
     ]
    },
    {
     "name": "stdout",
     "output_type": "stream",
     "text": [
      "\n",
      "Overall average B-factor: 85.74\n"
     ]
    },
    {
     "name": "stderr",
     "output_type": "stream",
     "text": [
      "\n"
     ]
    }
   ],
   "source": [
    "results = process_pdb_folder(\"extras/swiss_prot_pdbs/\")\n"
   ]
  },
  {
   "cell_type": "code",
   "execution_count": 4,
   "metadata": {},
   "outputs": [
    {
     "name": "stdout",
     "output_type": "stream",
     "text": [
      "42489\n"
     ]
    },
    {
     "data": {
      "image/png": "[encoded data removed]",
      "text/plain": [
       "<Figure size 640x480 with 1 Axes>"
      ]
     },
     "metadata": {},
     "output_type": "display_data"
    }
   ],
   "source": [
    "print(len(results))\n",
    "# make a histogram\n",
    "import matplotlib.pyplot as plt\n",
    "plt.hist(results, bins=20)\n",
    "plt.xlabel('Average B-factor')\n",
    "plt.ylabel('Frequency')\n",
    "plt.title('Distribution of B-factors in PDB files')\n",
    "\n",
    "plt.show()"
   ]
  },
  {
   "cell_type": "code",
   "execution_count": 11,
   "metadata": {},
   "outputs": [
    {
     "name": "stdout",
     "output_type": "stream",
     "text": [
      "38595\n"
     ]
    }
   ],
   "source": [
    "count = 0\n",
    "for i in results:\n",
    "    if i >= 70:\n",
    "        count += 1\n",
    "print(count)"
   ]
  },
  {
   "cell_type": "code",
   "execution_count": null,
   "metadata": {},
   "outputs": [],
   "source": []
  }
 ],
 "metadata": {
  "kernelspec": {
   "display_name": "thesis",
   "language": "python",
   "name": "python3"
  },
  "language_info": {
   "codemirror_mode": {
    "name": "ipython",
    "version": 3
   },
   "file_extension": ".py",
   "mimetype": "text/x-python",
   "name": "python",
   "nbconvert_exporter": "python",
   "pygments_lexer": "ipython3",
   "version": "3.11.5"
  }
 },
 "nbformat": 4,
 "nbformat_minor": 2
}
