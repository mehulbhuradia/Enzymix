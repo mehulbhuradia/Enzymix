{
 "cells": [
  {
   "cell_type": "code",
   "execution_count": 13,
   "metadata": {},
   "outputs": [],
   "source": [
    "import os\n",
    "import numpy as np\n",
    "from Bio.PDB import PDBParser\n",
    "from tqdm import tqdm\n",
    "import json"
   ]
  },
  {
   "cell_type": "code",
   "execution_count": 14,
   "metadata": {},
   "outputs": [],
   "source": [
    "def get_confidence_and_len(pdb_file):\n",
    "    parser = PDBParser(QUIET=True)\n",
    "    structure = parser.get_structure('pdb_structure', pdb_file)\n",
    "    confidence = [atom.get_bfactor() for atom in structure.get_atoms() if ((atom.get_bfactor() is not None)  and (atom.get_name() == 'CA'))]\n",
    "    if confidence:\n",
    "        return np.mean(confidence),len(confidence)\n",
    "    else:\n",
    "        return None,None"
   ]
  },
  {
   "cell_type": "code",
   "execution_count": 15,
   "metadata": {},
   "outputs": [],
   "source": [
    "def clean_pdb_folder(folder_path, confidence_threshold=70, min_length=50, max_length=100):    \n",
    "    file_list = [filename for filename in os.listdir(folder_path) if filename.endswith('.pdb')]\n",
    "    with tqdm(total=len(file_list), desc=\"Processing files\") as pbar:\n",
    "        for filename in file_list:\n",
    "            pdb_file = os.path.join(folder_path, filename)\n",
    "            confidence, length = get_confidence_and_len(pdb_file)\n",
    "            pbar.update(1)\n",
    "            if confidence < confidence_threshold or length < min_length or length > max_length:\n",
    "                os.remove(pdb_file)"
   ]
  },
  {
   "cell_type": "code",
   "execution_count": 16,
   "metadata": {},
   "outputs": [
    {
     "name": "stderr",
     "output_type": "stream",
     "text": [
      "Processing files: 100%|██████████| 115/115 [00:01<00:00, 110.54it/s]\n"
     ]
    }
   ],
   "source": [
    "clean_pdb_folder(\"swissprot_pdb_v4\", confidence_threshold=70, min_length=50, max_length=100)"
   ]
  }
 ],
 "metadata": {
  "kernelspec": {
   "display_name": "thesis",
   "language": "python",
   "name": "python3"
  },
  "language_info": {
   "codemirror_mode": {
    "name": "ipython",
    "version": 3
   },
   "file_extension": ".py",
   "mimetype": "text/x-python",
   "name": "python",
   "nbconvert_exporter": "python",
   "pygments_lexer": "ipython3",
   "version": "3.11.5"
  }
 },
 "nbformat": 4,
 "nbformat_minor": 2
}
