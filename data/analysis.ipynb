{
 "cells": [
  {
   "cell_type": "code",
   "execution_count": 1,
   "metadata": {},
   "outputs": [],
   "source": [
    "import csv\n",
    "import os\n",
    "from tqdm import tqdm\n",
    "from pyfaidx import Fasta\n"
   ]
  },
  {
   "cell_type": "code",
   "execution_count": 17,
   "metadata": {},
   "outputs": [],
   "source": [
    "\n",
    "file_path = \"../extras/1-AFDBClusters-entryId_repId_taxId.tsv\"\n",
    "\n",
    "tracker ={}\n",
    "\n",
    "all_members = []\n",
    "\n",
    "# Open the TSV file in read mode with appropriate encoding\n",
    "with open(file_path, 'r', encoding='utf-8') as tsvfile:\n",
    "    # Use csv reader to read the TSV file, specifying the delimiter as '\\t' (tab)\n",
    "    tsvreader = csv.reader(tsvfile, delimiter='\\t')\n",
    "    \n",
    "    # Iterate through each row in the TSV file\n",
    "    for row in tsvreader:\n",
    "        # Print each row\n",
    "        memberID = row[0]\n",
    "        repId = row[1]\n",
    "        if repId not in tracker:\n",
    "            tracker[repId] = {'size': 1, 'members': []}\n",
    "        else:\n",
    "            tracker[repId]['size'] += 1\n",
    "        tracker[repId]['members'].append(memberID)\n",
    "        all_members.append(memberID)"
   ]
  },
  {
   "cell_type": "code",
   "execution_count": 18,
   "metadata": {},
   "outputs": [
    {
     "name": "stdout",
     "output_type": "stream",
     "text": [
      "Number of clusters: 2302908\n"
     ]
    }
   ],
   "source": [
    "number_of_clusters = len(tracker)\n",
    "print(f\"Number of clusters: {number_of_clusters}\")"
   ]
  },
  {
   "cell_type": "code",
   "execution_count": 5,
   "metadata": {},
   "outputs": [],
   "source": [
    "\n",
    "def extract_id(header):\n",
    "    return header.split('|')[1]\n",
    "\n",
    "sequences = Fasta('../extras/1to100.fasta', key_function=extract_id)"
   ]
  },
  {
   "cell_type": "code",
   "execution_count": 22,
   "metadata": {},
   "outputs": [],
   "source": [
    "final_reps = {}\n",
    "for repId in tracker:\n",
    "    if repId in sequences:\n",
    "        sequence = sequences[repId][:].seq\n",
    "        seq_len = len(sequence)\n",
    "        if seq_len <= 100 and seq_len >= 50:\n",
    "            final_reps[repId] = seq_len"
   ]
  },
  {
   "cell_type": "code",
   "execution_count": 23,
   "metadata": {},
   "outputs": [
    {
     "name": "stdout",
     "output_type": "stream",
     "text": [
      "Number of final representatives: 315214\n"
     ]
    }
   ],
   "source": [
    "print(f\"Number of final representatives: {len(final_reps)}\")"
   ]
  },
  {
   "cell_type": "code",
   "execution_count": 24,
   "metadata": {},
   "outputs": [],
   "source": [
    "# Save to json\n",
    "import json\n",
    "with open('final_reps.json', 'w') as f:\n",
    "    json.dump(final_reps, f)"
   ]
  },
  {
   "cell_type": "code",
   "execution_count": 29,
   "metadata": {},
   "outputs": [
    {
     "name": "stdout",
     "output_type": "stream",
     "text": [
      "Number of final representatives with length >= 75: 148695\n"
     ]
    }
   ],
   "source": [
    "count=0\n",
    "for k,v in final_reps.items():\n",
    "    if v >= 80:\n",
    "        count+=1\n",
    "print(f\"Number of final representatives with length >= 75: {count}\")"
   ]
  }
 ],
 "metadata": {
  "kernelspec": {
   "display_name": "thesis",
   "language": "python",
   "name": "python3"
  },
  "language_info": {
   "codemirror_mode": {
    "name": "ipython",
    "version": 3
   },
   "file_extension": ".py",
   "mimetype": "text/x-python",
   "name": "python",
   "nbconvert_exporter": "python",
   "pygments_lexer": "ipython3",
   "version": "3.11.5"
  }
 },
 "nbformat": 4,
 "nbformat_minor": 2
}
