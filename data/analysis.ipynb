{
 "cells": [
  {
   "cell_type": "code",
   "execution_count": 1,
   "metadata": {},
   "outputs": [],
   "source": [
    "import csv\n",
    "import os\n",
    "from tqdm import tqdm\n",
    "from pyfaidx import Fasta\n"
   ]
  },
  {
   "cell_type": "code",
   "execution_count": 2,
   "metadata": {},
   "outputs": [],
   "source": [
    "\n",
    "file_path = \"../extras/1-AFDBClusters-entryId_repId_taxId.tsv\"\n",
    "\n",
    "tracker ={}\n",
    "\n",
    "all_members = []\n",
    "\n",
    "# Open the TSV file in read mode with appropriate encoding\n",
    "with open(file_path, 'r', encoding='utf-8') as tsvfile:\n",
    "    # Use csv reader to read the TSV file, specifying the delimiter as '\\t' (tab)\n",
    "    tsvreader = csv.reader(tsvfile, delimiter='\\t')\n",
    "    \n",
    "    # Iterate through each row in the TSV file\n",
    "    for row in tsvreader:\n",
    "        # Print each row\n",
    "        memberID = row[0]\n",
    "        repId = row[1]\n",
    "        if repId not in tracker:\n",
    "            tracker[repId] = {'size': 1, 'members': []}\n",
    "        else:\n",
    "            tracker[repId]['size'] += 1\n",
    "        tracker[repId]['members'].append(memberID)\n",
    "        all_members.append(memberID)"
   ]
  },
  {
   "cell_type": "code",
   "execution_count": 3,
   "metadata": {},
   "outputs": [
    {
     "name": "stdout",
     "output_type": "stream",
     "text": [
      "Number of clusters: 2302908\n"
     ]
    }
   ],
   "source": [
    "number_of_clusters = len(tracker)\n",
    "print(f\"Number of clusters: {number_of_clusters}\")"
   ]
  },
  {
   "cell_type": "code",
   "execution_count": 4,
   "metadata": {},
   "outputs": [],
   "source": [
    "\n",
    "def extract_id(header):\n",
    "    return header.split('|')[1]\n",
    "\n",
    "sequences = Fasta('../extras/uniprot_sprot.fasta', key_function=extract_id)"
   ]
  },
  {
   "cell_type": "code",
   "execution_count": 5,
   "metadata": {},
   "outputs": [],
   "source": [
    "\n",
    "members_in_swissprot = {}\n",
    "for member in all_members:\n",
    "    if member not in sequences:\n",
    "        continue\n",
    "    sequence = sequences[member][:].seq\n",
    "    seq_len = len(sequence)\n",
    "    members_in_swissprot[member] = seq_len\n"
   ]
  },
  {
   "cell_type": "code",
   "execution_count": 6,
   "metadata": {},
   "outputs": [
    {
     "name": "stdout",
     "output_type": "stream",
     "text": [
      "Number of members in SwissProt: 95413\n"
     ]
    }
   ],
   "source": [
    "print(f\"Number of members in SwissProt: {len(members_in_swissprot)}\")"
   ]
  },
  {
   "cell_type": "code",
   "execution_count": 7,
   "metadata": {},
   "outputs": [],
   "source": [
    "# delete the sequences that are not in SwissProt\n",
    "for repId in tracker:\n",
    "    members = tracker[repId]['members']\n",
    "    members = [member for member in members if member in members_in_swissprot]\n",
    "    tracker[repId]['member_sizes'] = [members_in_swissprot[member] for member in members]\n",
    "    tracker[repId]['members'] = members\n",
    "    tracker[repId]['size'] = len(members)"
   ]
  },
  {
   "cell_type": "code",
   "execution_count": 8,
   "metadata": {},
   "outputs": [],
   "source": [
    "tracker = {repId: data for repId, data in tracker.items() if data['size'] >= 1}"
   ]
  },
  {
   "cell_type": "code",
   "execution_count": 9,
   "metadata": {},
   "outputs": [
    {
     "name": "stdout",
     "output_type": "stream",
     "text": [
      "Number of clusters with at least 1 members in SwissProt: 37783\n"
     ]
    }
   ],
   "source": [
    "print(f\"Number of clusters with at least 1 members in SwissProt: {len(tracker)}\")"
   ]
  },
  {
   "cell_type": "code",
   "execution_count": 18,
   "metadata": {},
   "outputs": [
    {
     "name": "stdout",
     "output_type": "stream",
     "text": [
      "Number of clusters with at least 1 member shorter than 100 residues: 9616\n"
     ]
    }
   ],
   "source": [
    "# Make a list of the shortest member of each cluster\n",
    "shortest_members = []\n",
    "for repId in tracker:\n",
    "    members = tracker[repId]['members']\n",
    "    member_sizes = tracker[repId]['member_sizes']\n",
    "    shortest_member = members[member_sizes.index(min(member_sizes))]\n",
    "    if min(member_sizes) < 200:\n",
    "        shortest_members.append(shortest_member)\n",
    "print(f\"Number of clusters with at least 1 member shorter than 200 residues: {len(shortest_members)}\")"
   ]
  },
  {
   "cell_type": "code",
   "execution_count": 19,
   "metadata": {},
   "outputs": [
    {
     "name": "stdout",
     "output_type": "stream",
     "text": [
      "4614\n",
      "0\n",
      "2367\n",
      "Number of shortest members: 2406\n"
     ]
    }
   ],
   "source": [
    "counterrr = 0\n",
    "c2=0\n",
    "stds = []\n",
    "for repId in tracker:\n",
    "    members = tracker[repId]['members']\n",
    "    member_sizes = tracker[repId]['member_sizes']\n",
    "    std = max(member_sizes) - min(member_sizes)\n",
    "    stds.append(std)\n",
    "    shortest_member = members[member_sizes.index(min(member_sizes))]\n",
    "    largest_member = members[member_sizes.index(max(member_sizes))]\n",
    "    if largest_member == repId:\n",
    "        c2 += 1\n",
    "    if shortest_member == repId:\n",
    "        counterrr += 1\n",
    "print(max(stds))\n",
    "print(min(stds))\n",
    "print(c2)\n",
    "print(f\"Number of shortest members: {counterrr}\")"
   ]
  },
  {
   "cell_type": "code",
   "execution_count": 21,
   "metadata": {},
   "outputs": [
    {
     "name": "stderr",
     "output_type": "stream",
     "text": [
      "Processing files:   0%|          | 0/26153 [00:00<?, ?it/s]"
     ]
    },
    {
     "name": "stderr",
     "output_type": "stream",
     "text": [
      "Processing files: 100%|██████████| 26153/26153 [00:34<00:00, 751.83it/s] \n"
     ]
    }
   ],
   "source": [
    "import os\n",
    "from tqdm import tqdm\n",
    "\n",
    "# Delete all files that are not the shortest member of their cluster\n",
    "\n",
    "# Replace 'directory_path' with the path of the directory you want to list files from\n",
    "directory_path = 'D:/af50'\n",
    "\n",
    "files = os.listdir(directory_path)\n",
    "for file in tqdm(files, desc=\"Processing files\"):\n",
    "    pdb = file.split('-')[1]\n",
    "    if pdb not in shortest_members:\n",
    "        os.remove(os.path.join(directory_path, file))"
   ]
  },
  {
   "cell_type": "code",
   "execution_count": null,
   "metadata": {},
   "outputs": [],
   "source": []
  }
 ],
 "metadata": {
  "kernelspec": {
   "display_name": "thesis",
   "language": "python",
   "name": "python3"
  },
  "language_info": {
   "codemirror_mode": {
    "name": "ipython",
    "version": 3
   },
   "file_extension": ".py",
   "mimetype": "text/x-python",
   "name": "python",
   "nbconvert_exporter": "python",
   "pygments_lexer": "ipython3",
   "version": "3.11.5"
  }
 },
 "nbformat": 4,
 "nbformat_minor": 2
}
